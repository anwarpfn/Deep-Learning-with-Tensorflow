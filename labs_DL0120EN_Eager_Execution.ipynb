{
 "cells": [
  {
   "cell_type": "markdown",
   "metadata": {},
   "source": [
    "<center>\n",
    "    <img src=\"https://s3-api.us-geo.objectstorage.softlayer.net/cf-courses-data/CognitiveClass/Logos/organization_logo/organization_logo.png\" width=\"300\" alt=\"cognitiveclass.ai logo\"  />\n",
    "</center>\n",
    "\n",
    "# Eager Execution in TensorFlow 2.X\n",
    "\n",
    "Estaimted time needed: **15** minutes\n",
    "\n",
    "## Objectives\n",
    "\n",
    "After completing this lab you will be able to:\n",
    "\n",
    "-   Understand the impact of eager execution and the need to enable it\n"
   ]
  },
  {
   "cell_type": "markdown",
   "metadata": {},
   "source": [
    "<div class=\"alert alert-block alert-info\" style=\"margin-top: 20px\">\n",
    "<font size = 3><strong>In this notebook we will overview Eager Execution in  TensorFlow 2.x</strong></font>\n",
    "<br>\n",
    "<h2>Table of Contents</h2>\n",
    "<ol>\n",
    "    <li>Instructions</li>\n",
    "    <li>Eager Execution</li>\n",
    "    <li>Tensorflow Operations Without Eager Execution Mode</li>\n",
    "    <li>Tensorflow Operations With Eager Execution Mode</li>\n",
    "    <li>Dynamic Control Flow</li>\n",
    "    <li>Thank You</li>\n",
    "</ol>\n",
    "<p></p>\n",
    "</div>\n",
    "<br>\n",
    "\n",
    "<hr>\n"
   ]
  },
  {
   "cell_type": "markdown",
   "metadata": {},
   "source": [
    "# Instructions\n"
   ]
  },
  {
   "cell_type": "markdown",
   "metadata": {},
   "source": [
    "## Installing TensorFlow\n"
   ]
  },
  {
   "cell_type": "markdown",
   "metadata": {},
   "source": [
    "We begin by installing TensorFlow version 2.2.0 and its required prerequistes.\n"
   ]
  },
  {
   "cell_type": "code",
   "execution_count": 1,
   "metadata": {},
   "outputs": [
    {
     "name": "stdout",
     "output_type": "stream",
     "text": [
      "Collecting grpcio==1.24.3\n",
      "\u001b[?25l  Downloading https://files.pythonhosted.org/packages/30/54/c9810421e41ec0bca2228c6f06b1b1189b196b69533cbcac9f71b44727f8/grpcio-1.24.3-cp36-cp36m-manylinux2010_x86_64.whl (2.2MB)\n",
      "\u001b[K     |████████████████████████████████| 2.2MB 2.2MB/s eta 0:00:01\n",
      "\u001b[?25hRequirement already satisfied: six>=1.5.2 in /home/jupyterlab/conda/envs/python/lib/python3.6/site-packages (from grpcio==1.24.3) (1.15.0)\n",
      "Installing collected packages: grpcio\n",
      "  Found existing installation: grpcio 1.34.0\n",
      "    Uninstalling grpcio-1.34.0:\n",
      "      Successfully uninstalled grpcio-1.34.0\n",
      "Successfully installed grpcio-1.24.3\n",
      "Collecting tensorflow==2.2.0\n",
      "\u001b[?25l  Downloading https://files.pythonhosted.org/packages/3d/be/679ce5254a8c8d07470efb4a4c00345fae91f766e64f1c2aece8796d7218/tensorflow-2.2.0-cp36-cp36m-manylinux2010_x86_64.whl (516.2MB)\n",
      "\u001b[K     |████████████████████████████████| 516.2MB 17kB/s  eta 0:00:01  |                                | 51kB 8.3MB/s eta 0:01:03     |                                | 235kB 4.7MB/s eta 0:01:51     |▏                               | 3.0MB 4.7MB/s eta 0:01:50     |▎                               | 5.0MB 2.7MB/s eta 0:03:12     |▍                               | 5.7MB 2.7MB/s eta 0:03:12     |▌                               | 8.5MB 2.7MB/s eta 0:03:11     |▊                               | 11.2MB 5.9MB/s eta 0:01:26     |▊                               | 11.6MB 5.9MB/s eta 0:01:26     |▉                               | 12.7MB 5.9MB/s eta 0:01:26MB/s eta 0:01:26     |█▋                              | 25.8MB 6.0MB/s eta 0:01:23     |█▋                              | 26.4MB 6.0MB/s eta 0:01:23     |█▋                              | 26.7MB 5.3MB/s eta 0:01:34     |█▊                              | 27.5MB 5.3MB/s eta 0:01:34     |█▊                              | 27.9MB 5.3MB/s eta 0:01:33     |█▊                              | 28.1MB 5.3MB/s eta 0:01:33     |█▊                              | 28.5MB 5.3MB/s eta 0:01:33     |█▉                              | 29.5MB 5.3MB/s eta 0:01:33     |██                              | 32.4MB 6.0MB/s eta 0:01:21     |██▎                             | 35.9MB 6.0MB/s eta 0:01:20     |██▌                             | 39.7MB 6.0MB/s eta 0:01:20     |██▌                             | 39.9MB 6.0MB/s eta 0:01:20     |██▋                             | 42.1MB 2.7MB/s eta 0:02:55     |██▊                             | 43.9MB 2.7MB/s eta 0:02:54     |███                             | 49.4MB 5.0MB/s eta 0:01:35     |███▏                            | 50.8MB 5.0MB/s eta 0:01:34     |███▏                            | 51.2MB 5.3MB/s eta 0:01:29     |███▏                            | 52.0MB 5.3MB/s eta 0:01:29     |███▎                            | 52.3MB 5.3MB/s eta 0:01:29     |███▎                            | 52.7MB 5.3MB/s eta 0:01:29     |███▌                            | 56.6MB 5.9MB/s eta 0:01:18     |███▋                            | 57.4MB 5.9MB/s eta 0:01:18     |████                            | 65.4MB 5.0MB/s eta 0:01:31     |████▌                           | 71.9MB 5.0MB/s eta 0:01:29     |████▋                           | 73.9MB 5.0MB/s eta 0:01:28     |█████                           | 81.6MB 4.9MB/s eta 0:01:29     |█████▋                          | 91.4MB 2.8MB/s eta 0:02:33     |█████▊                          | 92.7MB 4.9MB/s eta 0:01:27     |█████▉                          | 94.1MB 4.9MB/s eta 0:01:27     |██████                          | 96.3MB 4.9MB/s eta 0:01:27     |██████▋                         | 106.5MB 5.7MB/s eta 0:01:12     |██████▊                         | 108.5MB 6.2MB/s eta 0:01:07     |███████▎                        | 117.3MB 6.0MB/s eta 0:01:07     |███████▎                        | 117.9MB 6.0MB/s eta 0:01:07     |███████▍                        | 119.3MB 5.3MB/s eta 0:01:16K     |███████▌                        | 121.0MB 5.3MB/s eta 0:01:16     |███████▋                        | 121.9MB 5.3MB/s eta 0:01:15     |███████▋                        | 122.6MB 5.3MB/s eta 0:01:15     |███████▋                        | 123.6MB 1.7MB/s eta 0:03:57     |███████▊                        | 123.9MB 1.7MB/s eta 0:03:57     |███████▊                        | 124.3MB 1.7MB/s eta 0:03:56     |███████▊                        | 124.5MB 1.7MB/s eta 0:03:56     |████████                        | 130.3MB 4.7MB/s eta 0:01:22     |████████▏                       | 131.9MB 4.7MB/s eta 0:01:22     |████████▏                       | 132.1MB 4.7MB/s eta 0:01:22     |████████▏                       | 132.6MB 4.7MB/s eta 0:01:22     |████████▌                       | 136.4MB 6.0MB/s eta 0:01:03     |█████████                       | 143.9MB 4.9MB/s eta 0:01:16     |█████████▏                      | 147.8MB 5.1MB/s eta 0:01:13     |█████████▌                      | 153.2MB 6.2MB/s eta 0:00:59     |█████████▋                      | 155.8MB 6.2MB/s eta 0:00:58     |█████████▊                      | 157.4MB 5.2MB/s eta 0:01:10     |█████████▉                      | 158.8MB 5.2MB/s eta 0:01:10     |██████████                      | 162.1MB 5.3MB/s eta 0:01:07                 | 172.8MB 5.1MB/s eta 0:01:08     |███████████▉                    | 190.4MB 5.1MB/s eta 0:01:04     |███████████▉                    | 191.4MB 5.1MB/s eta 0:01:04        | 198.7MB 5.2MB/s eta 0:01:01     |████████████▉                   | 207.5MB 4.9MB/s eta 0:01:04     |█████████████▏                  | 211.6MB 5.1MB/s eta 0:01:00     |█████████████▏                  | 212.2MB 5.1MB/s eta 0:01:00     |█████████████▏                  | 213.3MB 5.1MB/s eta 0:00:59     |█████████████▍                  | 216.2MB 4.9MB/s eta 0:01:01     |█████████████▊                  | 220.6MB 5.1MB/s eta 0:00:59     |██████████████                  | 225.6MB 2.6MB/s eta 0:01:52 5.1MB/s eta 0:00:57     |██████████████▌                 | 233.1MB 5.1MB/s eta 0:00:56     |██████████████▌                 | 233.6MB 5.4MB/s eta 0:00:53     |██████████████▌                 | 234.5MB 5.4MB/s eta 0:00:52     |██████████████▊                 | 238.1MB 6.3MB/s eta 0:00:45 6.3MB/s eta 0:00:44     |██████████████▉                 | 240.2MB 6.3MB/s eta 0:00:44     |███████████████                 | 242.2MB 5.0MB/s eta 0:00:55     |███████████████                 | 243.2MB 5.0MB/s eta 0:00:55████▏                | 244.5MB 5.0MB/s eta 0:00:55     |███████████████▍                | 249.1MB 2.7MB/s eta 0:01:38     |███████████████▋                | 251.2MB 2.7MB/s eta 0:01:37     |███████████████▊                | 253.4MB 2.6MB/s eta 0:01:40     |███████████████▊                | 253.8MB 2.6MB/s eta 0:01:40     |███████████████▉                | 255.3MB 2.6MB/s eta 0:01:39     |████████████████                | 256.4MB 2.6MB/s eta 0:01:39     |████████████████                | 256.6MB 2.6MB/s eta 0:01:38     |████████████████▏               | 261.0MB 2.8MB/s eta 0:01:32     |████████████████▏               | 261.3MB 5.5MB/s eta 0:00:47     |████████████████▎               | 261.7MB 5.5MB/s eta 0:00:47    |████████████████▎               | 263.0MB 5.5MB/s eta 0:00:47�██████████████▍               | 265.1MB 5.5MB/s eta 0:00:46███████████▌               | 265.5MB 5.5MB/s eta 0:00:46██████▌               | 266.1MB 5.5MB/s eta 0:00:46    |████████████████▋               | 267.3MB 5.4MB/s eta 0:00:47    |████████████████▋               | 268.3MB 5.4MB/s eta 0:00:47�██████████████▋               | 268.7MB 5.4MB/s eta 0:00:46    |████████████████▊               | 270.4MB 5.4MB/s eta 0:00:46     |████████████████▉               | 272.2MB 5.4MB/s eta 0:00:46█████████████████               | 272.7MB 1.8MB/s eta 0:02:17     |█████████████████               | 273.4MB 1.8MB/s eta 0:02:17█████████████████               | 274.0MB 1.8MB/s eta 0:02:16█████████████████               | 274.7MB 1.8MB/s eta 0:02:16     |█████████████████▎              | 278.3MB 2.9MB/s eta 0:01:23    | 278.9MB 2.9MB/s eta 0:01:23     |█████████████████▊              | 286.0MB 5.0MB/s eta 0:00:47    | 290.7MB 2.7MB/s eta 0:01:24     |██████████████████▏             | 292.9MB 4.9MB/s eta 0:00:46     |██████████████████▏             | 293.1MB 4.9MB/s eta 0:00:46     |██████████████████▌             | 298.2MB 4.9MB/s eta 0:00:45[K     |███████████████████▏            | 309.2MB 4.6MB/s eta 0:00:45     |███████████████████▍            | 313.3MB 2.7MB/s eta 0:01:15     |███████████████████▌            | 314.9MB 5.2MB/s eta 0:00:39     |███████████████████▌            | 315.1MB 5.2MB/s eta 0:00:39[K     |███████████████████▋            | 316.1MB 5.2MB/s eta 0:00:39[K     |███████████████████▊            | 318.6MB 2.7MB/s eta 0:01:15[K     |███████████████████▉            | 319.1MB 2.7MB/s eta 0:01:15[K     |███████████████████▉            | 320.7MB 2.7MB/s eta 0:01:14     |████████████████████            | 320.9MB 2.7MB/s eta 0:01:14     |████████████████████            | 321.9MB 2.7MB/s eta 0:01:14     |████████████████████            | 322.5MB 2.7MB/s eta 0:01:13     |████████████████████            | 323.7MB 5.0MB/s eta 0:00:39[K     |████████████████████            | 324.1MB 5.0MB/s eta 0:00:39�████████▏           | 325.3MB 5.0MB/s eta 0:00:39     | 327.6MB 2.7MB/s eta 0:01:11     |████████████████████▍           | 328.0MB 2.7MB/s eta 0:01:11     | 330.4MB 2.7MB/s eta 0:01:10�████████▋           | 332.1MB 5.1MB/s eta 0:00:37     |████████████████████▉           | 335.3MB 4.6MB/s eta 0:00:40��████▉           | 336.5MB 4.6MB/s eta 0:00:40 eta 0:00:40██           | 337.0MB 4.6MB/s eta 0:00:400     | 339.8MB 4.6MB/s eta 0:00:39     |█████████████████████▏          | 341.0MB 5.0MB/s eta 0:00:36��██▌          | 346.4MB 4.9MB/s eta 0:00:35███████████▌          | 346.8MB 4.9MB/s eta 0:00:35�███████████████████▌          | 347.1MB 4.9MB/s eta 0:00:35�█████████▋          | 348.1MB 4.9MB/s eta 0:00:35     |█████████████████████▋          | 349.0MB 4.9MB/s eta 0:00:35�█████████▋          | 349.2MB 4.9MB/s eta 0:00:359.4MB 4.9MB/s eta 0:00:35��█████████████████▊          | 349.6MB 4.9MB/s eta 0:00:35��██████████████████          | 353.2MB 4.8MB/s eta 0:00:35     |██████████████████████          | 353.8MB 4.8MB/s eta 0:00:35�██████████          | 354.1MB 4.8MB/s eta 0:00:35��██████████████████          | 354.4MB 4.8MB/s eta 0:00:34 | 355.1MB 4.8MB/s eta 0:00:34�████████████████████          | 355.3MB 4.8MB/s eta 0:00:34�██████████          | 356.0MB 4.8MB/s eta 0:00:34��█████████████████████▎         | 359.5MB 5.0MB/s eta 0:00:32��█████████████████████▍         | 361.0MB 5.0MB/s eta 0:00:32��█████████████████████▋         | 364.6MB 2.7MB/s eta 0:00:58██████████████████▊         | 366.7MB 5.8MB/s eta 0:00:26�██████████████▊         | 366.9MB 5.8MB/s eta 0:00:26��█████████████████████▉         | 368.2MB 5.8MB/s eta 0:00:26��██████████████████████         | 369.4MB 5.8MB/s eta 0:00:26     |███████████████████████         | 370.3MB 2.6MB/s eta 0:00:56███████████████████         | 372.0MB 2.6MB/s eta 0:00:56     |███████████████████████         | 372.3MB 2.6MB/s eta 0:00:560MB 2.6MB/s eta 0:00:55��█████████▏        | 373.4MB 2.6MB/s eta 0:00:55██▏        | 374.3MB 5.0MB/s eta 0:00:29     |███████████████████████▎        | 374.9MB 5.0MB/s eta 0:00:29██▎        | 375.6MB 5.0MB/s eta 0:00:29��█████████▍        | 377.0MB 5.0MB/s eta 0:00:293MB 5.0MB/s eta 0:00:284MB 5.0MB/s eta 0:00:28�█████████████████▌        | 378.9MB 5.0MB/s eta 0:00:285.0MB/s eta 0:00:28�████████▌        | 379.6MB 2.6MB/s eta 0:00:54████████████████▌        | 379.8MB 2.6MB/s eta 0:00:53��██████████████▋        | 380.6MB 2.6MB/s eta 0:00:53     | 381.1MB 2.6MB/s eta 0:00:53█████████████████████▋        | 381.7MB 2.6MB/s eta 0:00:53 | 382.0MB 2.6MB/s eta 0:00:53████████████▊        | 382.3MB 2.6MB/s eta 0:00:52     |███████████████████████▊        | 383.5MB 2.6MB/s eta 0:00:52██▉        | 383.9MB 2.8MB/s eta 0:00:482.8MB/s eta 0:00:48     |███████████████████████▉        | 385.2MB 2.8MB/s eta 0:00:48��█        | 385.6MB 2.8MB/s eta 0:00:489MB 2.8MB/s eta 0:00:484MB 2.8MB/s eta 0:00:473MB 2.8MB/s eta 0:00:47     |████████████████████████        | 388.0MB 2.8MB/s eta 0:00:474MB 2.7MB/s eta 0:00:48��██▏       | 389.1MB 2.7MB/s eta 0:00:48██████▏       | 389.3MB 2.7MB/s eta 0:00:48  |████████████████████████▏       | 390.0MB 2.7MB/s eta 0:00:47██████▏       | 390.5MB 2.7MB/s eta 0:00:47  |████████████████████████▏       | 390.7MB 2.7MB/s eta 0:00:47��███▎       | 390.9MB 2.7MB/s eta 0:00:47��██████████████████████▎       | 391.0MB 2.7MB/s eta 0:00:47██████████████████▎       | 391.7MB 2.7MB/s eta 0:00:47██████▎       | 392.5MB 5.0MB/s eta 0:00:25  |████████████████████████▍       | 392.7MB 5.0MB/s eta 0:00:25��██████████████████████▍       | 393.0MB 5.0MB/s eta 0:00:25�█▍       | 393.2MB 5.0MB/s eta 0:00:25�████████████████████▍       | 393.4MB 5.0MB/s eta 0:00:25       | 393.5MB 5.0MB/s eta 0:00:25██████████████████▍       | 393.7MB 5.0MB/s eta 0:00:25| 393.9MB 5.0MB/s eta 0:00:25��███████████████▍       | 394.0MB 5.0MB/s eta 0:00:25B/s eta 0:00:25███████████▌       | 394.7MB 5.0MB/s eta 0:00:25 0:00:255�██████▌       | 395.4MB 5.0MB/s eta 0:00:25     |████████████████████████▋       | 397.3MB 4.7MB/s eta 0:00:26██████▊       | 398.2MB 4.7MB/s eta 0:00:25  |████████████████████████▊       | 398.4MB 4.7MB/s eta 0:00:25██████▉       | 399.9MB 4.7MB/s eta 0:00:25██████▉       | 401.3MB 4.8MB/s eta 0:00:24  |█████████████████████████       | 401.5MB 4.8MB/s eta 0:00:24███████       | 402.6MB 4.8MB/s eta 0:00:24███████       | 403.5MB 4.8MB/s eta 0:00:24███████▏      | 405.1MB 1.7MB/s eta 0:01:04�█████▏      | 405.7MB 1.7MB/s eta 0:01:04     |█████████████████████████▏      | 406.3MB 1.7MB/s eta 0:01:04�████████████████▏      | 406.5MB 1.7MB/s eta 0:01:04|█████████████████████████▎      | 407.0MB 1.7MB/s eta 0:01:03████▎      | 407.3MB 1.7MB/s eta 0:01:03███████▎      | 407.8MB 1.7MB/s eta 0:01:03��█████████████████▍      | 409.1MB 4.8MB/s eta 0:00:23███████▍      | 409.3MB 4.8MB/s eta 0:00:23��█████████████████▌      | 410.7MB 4.8MB/s eta 0:00:23███████▌      | 410.8MB 4.8MB/s eta 0:00:23��█████████████████▌      | 412.1MB 4.8MB/s eta 0:00:22███████▋      | 412.5MB 4.6MB/s eta 0:00:23412.7MB 4.6MB/s eta 0:00:23��█████████████████▉      | 416.0MB 4.6MB/s eta 0:00:22███████▉      | 416.2MB 4.6MB/s eta 0:00:22416.3MB 4.6MB/s eta 0:00:22��██████████████████      | 418.1MB 1.4MB/s eta 0:01:13418.4MB 1.4MB/s eta 0:01:13    |██████████████████████████      | 418.6MB 1.4MB/s eta 0:01:13█████████████████      | 418.7MB 1.4MB/s eta 0:01:13�██████      | 418.9MB 1.4MB/s eta 0:01:13██████████████████████████      | 419.2MB 1.4MB/s eta 0:01:12��████████▏    | 437.6MB 3.1MB/s eta 0:00:25�███████████████████▏    | 437.8MB 3.1MB/s eta 0:00:25   | 439.8MB 3.1MB/s eta 0:00:25�█████████▎    | 440.0MB 3.1MB/s eta 0:00:25████████████████████▎    | 440.1MB 3.1MB/s eta 0:00:255��█████████▎    | 440.6MB 3.1MB/s eta 0:00:2524��    | 441.7MB 3.1MB/s eta 0:00:24�██████████▍    | 441.9MB 3.1MB/s eta 0:00:24█████████████████████▍    | 442.1MB 2.7MB/s eta 0:00:280:27▍    | 442.4MB 2.7MB/s eta 0:00:27 444.3MB 2.7MB/s eta 0:00:27████████▌    | 444.5MB 2.7MB/s eta 0:00:27��██████████████████▋    | 444.7MB 2.7MB/s eta 0:00:27   | 446.4MB 2.7MB/s eta 0:00:26   | 448.2MB 2.8MB/s eta 0:00:25████████████████████▉    | 448.6MB 2.8MB/s eta 0:00:25    | 448.9MB 2.8MB/s eta 0:00:25��█████████▉    | 449.0MB 2.8MB/s eta 0:00:25�████████████████████▉    | 449.2MB 2.8MB/s eta 0:00:25�    | 449.5MB 2.8MB/s eta 0:00:25   | 450.2MB 2.8MB/s eta 0:00:24█████████████████████    | 450.6MB 2.8MB/s eta 0:00:24    | 450.9MB 2.8MB/s eta 0:00:24��██████████    | 451.0MB 2.8MB/s eta 0:00:24   | 451.9MB 2.8MB/s eta 0:00:23�██████████    | 452.0MB 2.8MB/s eta 0:00:23█████████████████████    | 452.2MB 2.8MB/s eta 0:00:233��█████████▏   | 454.3MB 2.8MB/s eta 0:00:23�█████████▏   | 454.6MB 2.8MB/s eta 0:00:23[K     |████████████████████████████▏   | 454.7MB 2.8MB/s eta 0:00:22��█████████▎   | 456.5MB 2.8MB/s eta 0:00:22[K     |████████████████████████████▎   | 456.9MB 2.8MB/s eta 0:00:22█████████▍   | 457.1MB 2.8MB/s eta 0:00:22K     |████████████████████████████▍   | 457.3MB 2.8MB/s eta 0:00:22     |████████████████████████████▍   | 457.6MB 2.8MB/s eta 0:00:22�████████▍   | 457.7MB 2.8MB/s eta 0:00:22��█████████▍   | 458.5MB 2.8MB/s eta 0:00:21��████████▌   | 459.4MB 5.6MB/s eta 0:00:11�████████▌   | 459.7MB 5.6MB/s eta 0:00:11    |████████████████████████████▌   | 459.9MB 5.6MB/s eta 0:00:10��█████████▌   | 460.6MB 5.6MB/s eta 0:00:10[K     |████████████████████████████▋   | 461.7MB 5.6MB/s eta 0:00:10█████████▋   | 461.8MB 5.6MB/s eta 0:00:10K     |████████████████████████████▋   | 462.0MB 5.6MB/s eta 0:00:10��█████████▊   | 462.9MB 5.6MB/s eta 0:00:10��█████████▉   | 466.0MB 2.8MB/s eta 0:00:18��██████████   | 466.7MB 2.8MB/s eta 0:00:18     |█████████████████████████████   | 467.2MB 2.8MB/s eta 0:00:18�█████████   | 467.3MB 2.8MB/s eta 0:00:18    |█████████████████████████████   | 467.5MB 2.8MB/s eta 0:00:18��██████████   | 468.9MB 2.9MB/s eta 0:00:177MB 2.9MB/s eta 0:00:17�████████████████████████████▏  | 469.9MB 2.9MB/s eta 0:00:16█████▏  | 470.2MB 2.9MB/s eta 0:00:16/s eta 0:00:16��█████████████▏  | 470.7MB 2.9MB/s eta 0:00:16██▏  | 470.8MB 2.9MB/s eta 0:00:1600:16�██████████████████████▏  | 471.1MB 2.9MB/s eta 0:00:16��████████████████████▎  | 472.6MB 1.6MB/s eta 0:00:27��████████████████████▍  | 473.3MB 1.6MB/s eta 0:00:27█████████▍  | 473.5MB 1.6MB/s eta 0:00:26��████████████████████▍  | 474.5MB 1.6MB/s eta 0:00:26█████████▍  | 474.9MB 1.6MB/s eta 0:00:2675.1MB 1.6MB/s eta 0:00:25|█████████████████████████████▌  | 475.2MB 1.6MB/s eta 0:00:25��█████████████████▌  | 475.4MB 1.6MB/s eta 0:00:25██████▌  | 475.5MB 1.6MB/s eta 0:00:25█████████▋  | 477.2MB 2.7MB/s eta 0:00:15█████████▋  | 477.6MB 2.7MB/s eta 0:00:1577.7MB 2.7MB/s eta 0:00:15��█████████████████▋  | 478.1MB 2.7MB/s eta 0:00:15█████████▊  | 479.9MB 2.7MB/s eta 0:00:1480.1MB 2.7MB/s eta 0:00:14��████████████████████▉  | 481.2MB 2.8MB/s eta 0:00:13��█████████████████▉  | 481.8MB 2.8MB/s eta 0:00:13██████▉  | 482.0MB 2.8MB/s eta 0:00:13████  | 482.6MB 2.8MB/s eta 0:00:13��█████████████████████  | 483.3MB 2.8MB/s eta 0:00:12██████████  | 483.5MB 2.8MB/s eta 0:00:12��█████████████████████  | 484.3MB 2.7MB/s eta 0:00:12��█████████████████████  | 485.5MB 2.7MB/s eta 0:00:12██████████  | 485.7MB 2.7MB/s eta 0:00:12▏ | 486.3MB 2.7MB/s eta 0:00:12    |██████████████████████████████▎ | 487.9MB 2.7MB/s eta 0:00:11██████████████████████████████▎ | 488.0MB 2.7MB/s eta 0:00:11    |██████████████████████████████▍ | 489.3MB 2.7MB/s eta 0:00:10██████████████████████████████▍ | 489.5MB 2.7MB/s eta 0:00:10�████████████████████████████▍ | 489.6MB 2.7MB/s eta 0:00:10��██████████████████████████▍ | 489.8MB 2.7MB/s eta 0:00:10     |██████████████████████████████▍ | 490.7MB 2.7MB/s eta 0:00:10    |██████████████████████████████▍ | 491.0MB 2.7MB/s eta 0:00:10██████████████████████████████▌ | 492.7MB 2.7MB/s eta 0:00:09     |██████████████████████████████▋ | 493.0MB 4.9MB/s eta 0:00:05    |██████████████████████████████▋ | 493.3MB 4.9MB/s eta 0:00:05    |██████████████████████████████▋ | 493.6MB 4.9MB/s eta 0:00:05██████████████████████████████▋ | 493.8MB 4.9MB/s eta 0:00:05�████████████████████████████▋ | 494.0MB 4.9MB/s eta 0:00:05��██████████████████████████▋ | 494.1MB 4.9MB/s eta 0:00:05█████████████████████████▋ | 494.3MB 4.9MB/s eta 0:00:05�███████████████████████▋ | 494.4MB 4.9MB/s eta 0:00:05��█████████████████████▋ | 494.6MB 4.9MB/s eta 0:00:05    |██████████████████████████████▉ | 496.8MB 2.6MB/s eta 0:00:08�████████████████████████████▉ | 497.1MB 2.6MB/s eta 0:00:08��█████████████████████▉ | 497.7MB 2.6MB/s eta 0:00:07████████████████████▉ | 497.8MB 2.6MB/s eta 0:00:07��████████████████▉ | 498.1MB 2.6MB/s eta 0:00:07�██████████████ | 498.4MB 2.6MB/s eta 0:00:07��████████████ | 498.6MB 2.6MB/s eta 0:00:07�█████████ | 498.9MB 2.6MB/s eta 0:00:07██████ | 499.2MB 2.6MB/s eta 0:00:07�████ | 499.4MB 2.6MB/s eta 0:00:07��██ | 499.5MB 2.6MB/s eta 0:00:07█ | 499.7MB 2.6MB/s eta 0:00:070MB 2.6MB/s eta 0:00:07    |███████████████████████████████ | 501.2MB 724kB/s eta 0:00:21███████████████████████████████ | 501.4MB 724kB/s eta 0:00:21�█████████████████████████████ | 501.6MB 724kB/s eta 0:00:21��███████████████████████████ | 501.7MB 724kB/s eta 0:00:21██████████████████████████ | 501.9MB 724kB/s eta 0:00:20[K     |███████████████████████████████▏| 502.0MB 724kB/s eta 0:00:202MB 724kB/s eta 0:00:20�█████▏| 502.3MB 724kB/s eta 0:00:204.4MB 724kB/s eta 0:00:17�██████████████▎| 504.7MB 724kB/s eta 0:00:16��██████████████████████▎| 504.8MB 2.8MB/s eta 0:00:05███████████████████████████████▎| 505.0MB 2.8MB/s eta 0:00:05��██▎| 505.3MB 2.8MB/s eta 0:00:04██████▍| 506.8MB 2.8MB/s eta 0:00:04��██████████████████████▍| 507.1MB 2.8MB/s eta 0:00:04███████████████████████████████▌| 507.3MB 2.8MB/s eta 0:00:04��██▌| 507.6MB 2.8MB/s eta 0:00:04███████████▌| 507.8MB 2.8MB/s eta 0:00:04�███████████████████▌| 507.9MB 2.8MB/s eta 0:00:04��███████████████████████████▌| 508.1MB 2.8MB/s eta 0:00:03�| 508.4MB 2.8MB/s eta 0:00:03 2.8MB/s eta 0:00:03�████▋| 509.3MB 2.8MB/s eta 0:00:03��████████████▋| 509.4MB 2.8MB/s eta 0:00:03█████████████████████▋| 509.6MB 2.9MB/s eta 0:00:03�█████████████████████████████▋| 509.7MB 2.9MB/s eta 0:00:03█▋| 510.0MB 2.9MB/s eta 0:00:03�█████████▋| 510.2MB 2.9MB/s eta 0:00:03     |███████████████████████████████▊| 511.5MB 2.9MB/s eta 0:00:021.7MB 2.9MB/s eta 0:00:02██████▊| 511.8MB 2.9MB/s eta 0:00:02███████████████████████████████▊| 512.3MB 2.9MB/s eta 0:00:02��██▊| 512.6MB 2.9MB/s eta 0:00:02███████████▉| 512.8MB 2.9MB/s eta 0:00:02�███████████████████▉| 512.9MB 2.9MB/s eta 0:00:02��███████████████████████████▉| 513.1MB 2.9MB/s eta 0:00:024.6MB 5.0MB/s eta 0:00:015.5MB 5.0MB/s eta 0:00:01███████| 515.6MB 5.0MB/s eta 0:00:01�███████████████| 515.8MB 5.0MB/s eta 0:00:01████████████████████████████████| 516.1MB 5.0MB/s eta 0:00:01\n",
      "\u001b[?25hCollecting opt-einsum>=2.3.2 (from tensorflow==2.2.0)\n",
      "\u001b[?25l  Downloading https://files.pythonhosted.org/packages/bc/19/404708a7e54ad2798907210462fd950c3442ea51acc8790f3da48d2bee8b/opt_einsum-3.3.0-py3-none-any.whl (65kB)\n",
      "\u001b[K     |████████████████████████████████| 71kB 11.9MB/s eta 0:00:01\n",
      "\u001b[?25hCollecting scipy==1.4.1; python_version >= \"3\" (from tensorflow==2.2.0)\n",
      "\u001b[?25l  Downloading https://files.pythonhosted.org/packages/dc/29/162476fd44203116e7980cfbd9352eef9db37c49445d1fec35509022f6aa/scipy-1.4.1-cp36-cp36m-manylinux1_x86_64.whl (26.1MB)\n",
      "\u001b[K     |████████████████████████████████| 26.1MB 5.2MB/s eta 0:00:01/s eta 0:00:042.4MB 7.7MB/s eta 0:00:0400:03/s eta 0:00:03��███▌                           | 3.7MB 7.7MB/s eta 0:00:03                | 3.9MB 7.7MB/s eta 0:00:03MB 2.8MB/s eta 0:00:08�█████▍                         | 5.2MB 2.8MB/s eta 0:00:08��██▊                         | 5.5MB 2.8MB/s eta 0:00:08█                         | 5.7MB 2.8MB/s eta 0:00:08707     |██████████▍                     | 8.4MB 2.7MB/s eta 0:00:07[K     |██████████▋                     | 8.7MB 2.7MB/s eta 0:00:07/s eta 0:00:07�███▌                    | 9.3MB 2.7MB/s eta 0:00:07MB/s eta 0:00:06█▏                  | 10.7MB 2.7MB/s eta 0:00:06 eta 0:00:060:03                | 12.5MB 4.9MB/s eta 0:00:03�████████████▋                | 12.7MB 4.9MB/s eta 0:00:03/s eta 0:00:03          | 14.8MB 4.9MB/s eta 0:00:03�███████████████▍             | 15.0MB 4.9MB/s eta 0:00:03      | 15.2MB 4.9MB/s eta 0:00:03 0:00:02.7MB 4.8MB/s eta 0:00:02��█████           | 17.1MB 4.8MB/s eta 0:00:02�██████████████▏          | 17.3MB 4.8MB/s eta 0:00:02��███████████████████▏        | 18.9MB 4.8MB/s eta 0:00:02��█████████████████████▍        | 19.0MB 4.8MB/s eta 0:00:02 |███████████████████████▋        | 19.2MB 4.8MB/s eta 0:00:02[K     |███████████████████████▉        | 19.4MB 4.8MB/s eta 0:00:020:02MB/s eta 0:00:02��█████████████████▌      | 20.8MB 5.5MB/s eta 0:00:01��█▊      | 20.9MB 5.5MB/s eta 0:00:01   |██████████████████████████      | 21.1MB 5.5MB/s eta 0:00:01�███████████      | 21.3MB 5.5MB/s eta 0:00:01�█████▎     | 21.4MB 5.5MB/s eta 0:00:01 5.5MB/s eta 0:00:010:01�██████████████████████████▏    | 22.1MB 5.5MB/s eta 0:00:01 5.5MB/s eta 0:00:01�▊    | 22.6MB 5.5MB/s eta 0:00:01�█████████████████▊   | 23.4MB 5.5MB/s eta 0:00:01��███████████████████████████ | 25.2MB 5.2MB/s eta 0:00:01█████████████████████ | 25.3MB 5.2MB/s eta 0:00:01\n",
      "\u001b[?25hRequirement already satisfied: numpy<2.0,>=1.16.0 in /home/jupyterlab/conda/envs/python/lib/python3.6/site-packages (from tensorflow==2.2.0) (1.19.4)\n",
      "Collecting keras-preprocessing>=1.1.0 (from tensorflow==2.2.0)\n",
      "\u001b[?25l  Downloading https://files.pythonhosted.org/packages/79/4c/7c3275a01e12ef9368a892926ab932b33bb13d55794881e3573482b378a7/Keras_Preprocessing-1.1.2-py2.py3-none-any.whl (42kB)\n",
      "\u001b[K     |████████████████████████████████| 51kB 10.5MB/s eta 0:00:01\n",
      "\u001b[?25hCollecting tensorflow-estimator<2.3.0,>=2.2.0 (from tensorflow==2.2.0)\n",
      "\u001b[?25l  Downloading https://files.pythonhosted.org/packages/a4/f5/926ae53d6a226ec0fda5208e0e581cffed895ccc89e36ba76a8e60895b78/tensorflow_estimator-2.2.0-py2.py3-none-any.whl (454kB)\n",
      "\u001b[K     |████████████████████████████████| 460kB 28.7MB/s eta 0:00:01\n",
      "\u001b[?25hCollecting google-pasta>=0.1.8 (from tensorflow==2.2.0)\n",
      "\u001b[?25l  Downloading https://files.pythonhosted.org/packages/a3/de/c648ef6835192e6e2cc03f40b19eeda4382c49b5bafb43d88b931c4c74ac/google_pasta-0.2.0-py3-none-any.whl (57kB)\n",
      "\u001b[K     |████████████████████████████████| 61kB 11.1MB/s eta 0:00:01\n",
      "\u001b[?25hRequirement already satisfied: protobuf>=3.8.0 in /home/jupyterlab/conda/envs/python/lib/python3.6/site-packages (from tensorflow==2.2.0) (3.14.0)\n",
      "Requirement already satisfied: six>=1.12.0 in /home/jupyterlab/conda/envs/python/lib/python3.6/site-packages (from tensorflow==2.2.0) (1.15.0)\n",
      "Collecting astunparse==1.6.3 (from tensorflow==2.2.0)\n",
      "  Downloading https://files.pythonhosted.org/packages/2b/03/13dde6512ad7b4557eb792fbcf0c653af6076b81e5941d36ec61f7ce6028/astunparse-1.6.3-py2.py3-none-any.whl\n",
      "Collecting wrapt>=1.11.1 (from tensorflow==2.2.0)\n",
      "  Using cached https://files.pythonhosted.org/packages/82/f7/e43cefbe88c5fd371f4cf0cf5eb3feccd07515af9fd6cf7dbf1d1793a797/wrapt-1.12.1.tar.gz\n",
      "Collecting h5py<2.11.0,>=2.10.0 (from tensorflow==2.2.0)\n",
      "\u001b[?25l  Downloading https://files.pythonhosted.org/packages/60/06/cafdd44889200e5438b897388f3075b52a8ef01f28a17366d91de0fa2d05/h5py-2.10.0-cp36-cp36m-manylinux1_x86_64.whl (2.9MB)\n",
      "\u001b[K     |████████████████████████████████| 2.9MB 5.5MB/s eta 0:00:01��                        | 675kB 5.5MB/s eta 0:00:01█████▏                     | 911kB 5.5MB/s eta 0:00:01eta 0:00:01/s eta 0:00:010:01██████████▍        | 2.1MB 5.5MB/s eta 0:00:01�████████████████▍      | 2.3MB 5.5MB/s eta 0:00:01███▏    | 2.4MB 5.5MB/s eta 0:00:01��█████████   | 2.6MB 5.5MB/s eta 0:00:010:01\n",
      "\u001b[?25hRequirement already satisfied: termcolor>=1.1.0 in /home/jupyterlab/conda/envs/python/lib/python3.6/site-packages (from tensorflow==2.2.0) (1.1.0)\n",
      "Collecting gast==0.3.3 (from tensorflow==2.2.0)\n",
      "  Downloading https://files.pythonhosted.org/packages/d6/84/759f5dd23fec8ba71952d97bcc7e2c9d7d63bdc582421f3cd4be845f0c98/gast-0.3.3-py2.py3-none-any.whl\n",
      "Requirement already satisfied: absl-py>=0.7.0 in /home/jupyterlab/conda/envs/python/lib/python3.6/site-packages (from tensorflow==2.2.0) (0.11.0)\n",
      "Requirement already satisfied: grpcio>=1.8.6 in /home/jupyterlab/conda/envs/python/lib/python3.6/site-packages (from tensorflow==2.2.0) (1.24.3)\n",
      "Requirement already satisfied: wheel>=0.26; python_version >= \"3\" in /home/jupyterlab/conda/envs/python/lib/python3.6/site-packages (from tensorflow==2.2.0) (0.36.2)\n",
      "Collecting tensorboard<2.3.0,>=2.2.0 (from tensorflow==2.2.0)\n",
      "\u001b[?25l  Downloading https://files.pythonhosted.org/packages/1d/74/0a6fcb206dcc72a6da9a62dd81784bfdbff5fedb099982861dc2219014fb/tensorboard-2.2.2-py3-none-any.whl (3.0MB)\n",
      "\u001b[K     |████████████████████████████████| 3.0MB 7.4MB/s eta 0:00:017.4MB/s eta 0:00:01 |███████████▋                    | 1.1MB 7.4MB/s eta 0:00:01██████████████████████████    | 2.6MB 7.4MB/s eta 0:00:01 2.7MB 7.4MB/s eta 0:00:01|███████████████████████████████▌| 2.9MB 7.4MB/s eta 0:00:01\n",
      "\u001b[?25hRequirement already satisfied: markdown>=2.6.8 in /home/jupyterlab/conda/envs/python/lib/python3.6/site-packages (from tensorboard<2.3.0,>=2.2.0->tensorflow==2.2.0) (3.3.3)\n",
      "Requirement already satisfied: requests<3,>=2.21.0 in /home/jupyterlab/conda/envs/python/lib/python3.6/site-packages (from tensorboard<2.3.0,>=2.2.0->tensorflow==2.2.0) (2.25.0)\n",
      "Requirement already satisfied: setuptools>=41.0.0 in /home/jupyterlab/conda/envs/python/lib/python3.6/site-packages (from tensorboard<2.3.0,>=2.2.0->tensorflow==2.2.0) (49.6.0.post20201009)\n",
      "Requirement already satisfied: werkzeug>=0.11.15 in /home/jupyterlab/conda/envs/python/lib/python3.6/site-packages (from tensorboard<2.3.0,>=2.2.0->tensorflow==2.2.0) (1.0.1)\n",
      "Collecting google-auth<2,>=1.6.3 (from tensorboard<2.3.0,>=2.2.0->tensorflow==2.2.0)\n",
      "\u001b[?25l  Downloading https://files.pythonhosted.org/packages/bf/6b/a364a4ad2a9d25904a19f53b9474ae9666b96e0653a6ca38492baf1bcf05/google_auth-1.27.0-py2.py3-none-any.whl (135kB)\n",
      "\u001b[K     |████████████████████████████████| 143kB 6.0MB/s eta 0:00:01\n",
      "\u001b[?25hCollecting tensorboard-plugin-wit>=1.6.0 (from tensorboard<2.3.0,>=2.2.0->tensorflow==2.2.0)\n",
      "\u001b[?25l  Downloading https://files.pythonhosted.org/packages/1a/c1/499e600ba0c618b451cd9c425ae1c177249940a2086316552fee7d86c954/tensorboard_plugin_wit-1.8.0-py3-none-any.whl (781kB)\n",
      "\u001b[K     |████████████████████████████████| 788kB 53.5MB/s eta 0:00:01 235kB 53.5MB/s eta 0:00:01\n",
      "\u001b[?25hCollecting google-auth-oauthlib<0.5,>=0.4.1 (from tensorboard<2.3.0,>=2.2.0->tensorflow==2.2.0)\n",
      "  Downloading https://files.pythonhosted.org/packages/81/67/e2c34bb0628984c7ce71cce6ba6964cb29c418873847fc285f826e032e6e/google_auth_oauthlib-0.4.2-py2.py3-none-any.whl\n",
      "Requirement already satisfied: importlib-metadata; python_version < \"3.8\" in /home/jupyterlab/conda/envs/python/lib/python3.6/site-packages (from markdown>=2.6.8->tensorboard<2.3.0,>=2.2.0->tensorflow==2.2.0) (3.3.0)\n",
      "Requirement already satisfied: chardet<4,>=3.0.2 in /home/jupyterlab/conda/envs/python/lib/python3.6/site-packages (from requests<3,>=2.21.0->tensorboard<2.3.0,>=2.2.0->tensorflow==2.2.0) (3.0.4)\n",
      "Requirement already satisfied: urllib3<1.27,>=1.21.1 in /home/jupyterlab/conda/envs/python/lib/python3.6/site-packages (from requests<3,>=2.21.0->tensorboard<2.3.0,>=2.2.0->tensorflow==2.2.0) (1.25.11)\n",
      "Requirement already satisfied: certifi>=2017.4.17 in /home/jupyterlab/conda/envs/python/lib/python3.6/site-packages (from requests<3,>=2.21.0->tensorboard<2.3.0,>=2.2.0->tensorflow==2.2.0) (2020.12.5)\n",
      "Requirement already satisfied: idna<3,>=2.5 in /home/jupyterlab/conda/envs/python/lib/python3.6/site-packages (from requests<3,>=2.21.0->tensorboard<2.3.0,>=2.2.0->tensorflow==2.2.0) (2.10)\n",
      "Collecting rsa<5,>=3.1.4; python_version >= \"3.6\" (from google-auth<2,>=1.6.3->tensorboard<2.3.0,>=2.2.0->tensorflow==2.2.0)\n",
      "  Downloading https://files.pythonhosted.org/packages/e9/93/0c0f002031f18b53af7a6166103c02b9c0667be528944137cc954ec921b3/rsa-4.7.2-py3-none-any.whl\n",
      "Collecting cachetools<5.0,>=2.0.0 (from google-auth<2,>=1.6.3->tensorboard<2.3.0,>=2.2.0->tensorflow==2.2.0)\n",
      "  Downloading https://files.pythonhosted.org/packages/bb/72/8df2e0dc991f1a1d2c6869404e7622e8ee50d80bff357dbb57c3df70305b/cachetools-4.2.1-py3-none-any.whl\n",
      "Requirement already satisfied: pyasn1-modules>=0.2.1 in /home/jupyterlab/conda/envs/python/lib/python3.6/site-packages (from google-auth<2,>=1.6.3->tensorboard<2.3.0,>=2.2.0->tensorflow==2.2.0) (0.2.8)\n",
      "Collecting requests-oauthlib>=0.7.0 (from google-auth-oauthlib<0.5,>=0.4.1->tensorboard<2.3.0,>=2.2.0->tensorflow==2.2.0)\n",
      "  Using cached https://files.pythonhosted.org/packages/a3/12/b92740d845ab62ea4edf04d2f4164d82532b5a0b03836d4d4e71c6f3d379/requests_oauthlib-1.3.0-py2.py3-none-any.whl\n",
      "Requirement already satisfied: zipp>=0.5 in /home/jupyterlab/conda/envs/python/lib/python3.6/site-packages (from importlib-metadata; python_version < \"3.8\"->markdown>=2.6.8->tensorboard<2.3.0,>=2.2.0->tensorflow==2.2.0) (3.4.0)\n",
      "Requirement already satisfied: typing-extensions>=3.6.4; python_version < \"3.8\" in /home/jupyterlab/conda/envs/python/lib/python3.6/site-packages (from importlib-metadata; python_version < \"3.8\"->markdown>=2.6.8->tensorboard<2.3.0,>=2.2.0->tensorflow==2.2.0) (3.7.4.3)\n",
      "Requirement already satisfied: pyasn1>=0.1.3 in /home/jupyterlab/conda/envs/python/lib/python3.6/site-packages (from rsa<5,>=3.1.4; python_version >= \"3.6\"->google-auth<2,>=1.6.3->tensorboard<2.3.0,>=2.2.0->tensorflow==2.2.0) (0.4.8)\n",
      "Collecting oauthlib>=3.0.0 (from requests-oauthlib>=0.7.0->google-auth-oauthlib<0.5,>=0.4.1->tensorboard<2.3.0,>=2.2.0->tensorflow==2.2.0)\n",
      "\u001b[?25l  Downloading https://files.pythonhosted.org/packages/05/57/ce2e7a8fa7c0afb54a0581b14a65b56e62b5759dbc98e80627142b8a3704/oauthlib-3.1.0-py2.py3-none-any.whl (147kB)\n",
      "\u001b[K     |████████████████████████████████| 153kB 7.2MB/s eta 0:00:01\n",
      "\u001b[?25hBuilding wheels for collected packages: wrapt\n",
      "  Building wheel for wrapt (setup.py) ... \u001b[?25ldone\n",
      "\u001b[?25h  Stored in directory: /home/jupyterlab/.cache/pip/wheels/b1/c2/ed/d62208260edbd3fa7156545c00ef966f45f2063d0a84f8208a\n",
      "Successfully built wrapt\n",
      "Installing collected packages: opt-einsum, scipy, keras-preprocessing, tensorflow-estimator, google-pasta, astunparse, wrapt, h5py, gast, rsa, cachetools, google-auth, tensorboard-plugin-wit, oauthlib, requests-oauthlib, google-auth-oauthlib, tensorboard, tensorflow\n",
      "  Found existing installation: scipy 1.5.4\n",
      "    Uninstalling scipy-1.5.4:\n",
      "      Successfully uninstalled scipy-1.5.4\n",
      "  Found existing installation: h5py 2.8.0\n",
      "    Uninstalling h5py-2.8.0:\n",
      "      Successfully uninstalled h5py-2.8.0\n",
      "  Found existing installation: gast 0.4.0\n",
      "    Uninstalling gast-0.4.0:\n",
      "      Successfully uninstalled gast-0.4.0\n",
      "  Found existing installation: tensorboard 1.8.0\n",
      "    Uninstalling tensorboard-1.8.0:\n",
      "      Successfully uninstalled tensorboard-1.8.0\n",
      "  Found existing installation: tensorflow 1.8.0\n",
      "    Uninstalling tensorflow-1.8.0:\n",
      "      Successfully uninstalled tensorflow-1.8.0\n",
      "Successfully installed astunparse-1.6.3 cachetools-4.2.1 gast-0.3.3 google-auth-1.27.0 google-auth-oauthlib-0.4.2 google-pasta-0.2.0 h5py-2.10.0 keras-preprocessing-1.1.2 oauthlib-3.1.0 opt-einsum-3.3.0 requests-oauthlib-1.3.0 rsa-4.7.2 scipy-1.4.1 tensorboard-2.2.2 tensorboard-plugin-wit-1.8.0 tensorflow-2.2.0 tensorflow-estimator-2.2.0 wrapt-1.12.1\n"
     ]
    }
   ],
   "source": [
    "!pip install grpcio==1.24.3\n",
    "!pip install tensorflow==2.2.0"
   ]
  },
  {
   "cell_type": "markdown",
   "metadata": {},
   "source": [
    "#### <b>Notice:</b> This notebook has been created with TensorFlow version 2.2, and might not work with other versions. Therefore we check:\n"
   ]
  },
  {
   "cell_type": "code",
   "execution_count": 2,
   "metadata": {},
   "outputs": [],
   "source": [
    "import tensorflow as tf\n",
    "if not tf.__version__ == '2.2.0':\n",
    "    print(tf.__version__)\n",
    "    raise ValueError('please upgrade to TensorFlow 2.2.0, or restart your Kernel (Kernel->Restart & Clear Output)')"
   ]
  },
  {
   "cell_type": "markdown",
   "metadata": {},
   "source": [
    "# Eager Execution\n"
   ]
  },
  {
   "cell_type": "markdown",
   "metadata": {},
   "source": [
    "TensorFlow's **eager execution** is an imperative programming environment that evaluates operations immediately, without building graphs, operations return concrete values instead of constructing a computational graph to run later. This makes it easy to get started with TensorFlow and debug models.\n"
   ]
  },
  {
   "cell_type": "markdown",
   "metadata": {},
   "source": [
    "With **TensorFlow 2.x**, **Eager Execution is enabled by default**. This allows TensorFlow code to be executed and evaluated line by line. Before version 2.x was released, every graph had to be run wihthin a TensorFlow **session**. This only allowed for the entire graph to be run all at once. This made it hard to debug the computation graph. \n"
   ]
  },
  {
   "cell_type": "markdown",
   "metadata": {},
   "source": [
    "Eager execution is a flexible machine learning platform for research and experimentation, providing:\n",
    "\n",
    "-   **An intuitive interface**-Structure your code naturally and use Python data structures. Quickly iterate on small models and   small data.\n",
    "\n",
    "\n",
    "-   **Easier debugging**- Execute operations directly to inspect code line by line and test changes. Use standard Python debugging tools for immediate error reporting.\n",
    "\n",
    "\n",
    "-   **Natural control flow**—Use Python control flow instead of graph control flow, simplifying the specification of dynamic models.\n"
   ]
  },
  {
   "cell_type": "markdown",
   "metadata": {},
   "source": [
    "As I mentioned above, in **Tensorflow 2.x**, eager execution is enabled by default. To verify that please run the below code.\n"
   ]
  },
  {
   "cell_type": "code",
   "execution_count": 3,
   "metadata": {},
   "outputs": [
    {
     "data": {
      "text/plain": [
       "True"
      ]
     },
     "execution_count": 3,
     "metadata": {},
     "output_type": "execute_result"
    }
   ],
   "source": [
    "tf.executing_eagerly()"
   ]
  },
  {
   "cell_type": "markdown",
   "metadata": {},
   "source": [
    "Now you can run TensorFlow operations and the results will return immediately:\n"
   ]
  },
  {
   "cell_type": "markdown",
   "metadata": {},
   "source": [
    "But first let me show you how things get done without the eager execution in tensorflow.\n"
   ]
  },
  {
   "cell_type": "markdown",
   "metadata": {},
   "source": [
    "# Tensorflow Operations Without Eager Execution Mode\n"
   ]
  },
  {
   "cell_type": "markdown",
   "metadata": {},
   "source": [
    "So, there is a **disable_eager_execution()** function in TensorFlow 2.x. You can call the function like this:\n"
   ]
  },
  {
   "cell_type": "code",
   "execution_count": 4,
   "metadata": {},
   "outputs": [],
   "source": [
    "from tensorflow.python.framework.ops import disable_eager_execution\n",
    "disable_eager_execution()"
   ]
  },
  {
   "cell_type": "markdown",
   "metadata": {},
   "source": [
    "#### Note: This function can only be called at the beginning before any Graphs, Ops, or Tensors have been  created.\n"
   ]
  },
  {
   "cell_type": "markdown",
   "metadata": {},
   "source": [
    "Now, verify that the eager execution is disabled or not by running the below code.\n"
   ]
  },
  {
   "cell_type": "code",
   "execution_count": 5,
   "metadata": {},
   "outputs": [
    {
     "data": {
      "text/plain": [
       "False"
      ]
     },
     "execution_count": 5,
     "metadata": {},
     "output_type": "execute_result"
    }
   ],
   "source": [
    "tf.executing_eagerly()"
   ]
  },
  {
   "cell_type": "markdown",
   "metadata": {},
   "source": [
    "As you can see **False** in the output that means it is disabled now.\n"
   ]
  },
  {
   "cell_type": "markdown",
   "metadata": {},
   "source": [
    "Just execute the next cell. You will notice that we've created an object **a** of type **tensorflow.python.framework.ops.Tensor**\n"
   ]
  },
  {
   "cell_type": "code",
   "execution_count": 6,
   "metadata": {},
   "outputs": [
    {
     "data": {
      "text/plain": [
       "tensorflow.python.framework.ops.Tensor"
      ]
     },
     "execution_count": 6,
     "metadata": {},
     "output_type": "execute_result"
    }
   ],
   "source": [
    "import numpy as np\n",
    "a = tf.constant(np.array([1., 2., 3.]))\n",
    "type(a)"
   ]
  },
  {
   "cell_type": "markdown",
   "metadata": {},
   "source": [
    "Let's create another Tensor **b** and apply the dot product between them. This gives us **c**\n"
   ]
  },
  {
   "cell_type": "code",
   "execution_count": 7,
   "metadata": {},
   "outputs": [
    {
     "data": {
      "text/plain": [
       "tensorflow.python.framework.ops.Tensor"
      ]
     },
     "execution_count": 7,
     "metadata": {},
     "output_type": "execute_result"
    }
   ],
   "source": [
    "b = tf.constant(np.array([4.,5.,6.]))\n",
    "c = tf.tensordot(a, b, 1)\n",
    "type(c)"
   ]
  },
  {
   "cell_type": "code",
   "execution_count": 8,
   "metadata": {},
   "outputs": [
    {
     "name": "stdout",
     "output_type": "stream",
     "text": [
      "Tensor(\"Tensordot:0\", shape=(), dtype=float64)\n"
     ]
    }
   ],
   "source": [
    "print(c)"
   ]
  },
  {
   "cell_type": "markdown",
   "metadata": {},
   "source": [
    "Note that **c** is a **tensorflow.python.framework.ops.Tensor** as well. So any node of the execution graph resembles a Tensor type. **But so far not a single computation happened**. You need to execute the graph. You can pass any graph or subgraph to the TensorFlow runtime for execution. Each TensorFlow graph runs within a TensorFlow Session, therefore we need to create it first:\n"
   ]
  },
  {
   "cell_type": "markdown",
   "metadata": {},
   "source": [
    "**Note:** Session can be accessed via **tf.compat.v1.Session()** in Tensorflow 2.x.\n"
   ]
  },
  {
   "cell_type": "code",
   "execution_count": 9,
   "metadata": {},
   "outputs": [
    {
     "name": "stdout",
     "output_type": "stream",
     "text": [
      "32.0\n"
     ]
    }
   ],
   "source": [
    "session = tf.compat.v1.Session()\n",
    "output = session.run(c)\n",
    "session.close()\n",
    "print(output)"
   ]
  },
  {
   "cell_type": "markdown",
   "metadata": {},
   "source": [
    "Now you see the correct result of 32. But the problem is that debugging is pretty hard if you can only run complete graphs.\n"
   ]
  },
  {
   "cell_type": "markdown",
   "metadata": {},
   "source": [
    "So let's actually re-enable the **eager execution**.\n"
   ]
  },
  {
   "cell_type": "markdown",
   "metadata": {},
   "source": [
    "## Tensorflow Operations With Eager Execution Mode\n"
   ]
  },
  {
   "cell_type": "markdown",
   "metadata": {},
   "source": [
    "### IMPORTANT! => Please don't forget restart the kernel by clicking on \"Kernel\"->\"Restart\" so that the changes take effect.\n",
    "\n",
    "**Enable or Disable Eager execution has to happen on program startup. This is the reason we have to restart the kernel.** \n"
   ]
  },
  {
   "cell_type": "markdown",
   "metadata": {},
   "source": [
    "Import the required libraries again.\n"
   ]
  },
  {
   "cell_type": "code",
   "execution_count": 1,
   "metadata": {},
   "outputs": [],
   "source": [
    "import tensorflow as tf\n",
    "import numpy as np"
   ]
  },
  {
   "cell_type": "markdown",
   "metadata": {},
   "source": [
    "Run the below command to re-enable the eager execution.\n"
   ]
  },
  {
   "cell_type": "code",
   "execution_count": 2,
   "metadata": {},
   "outputs": [],
   "source": [
    "from tensorflow.python.framework.ops import enable_eager_execution\n",
    "enable_eager_execution()"
   ]
  },
  {
   "cell_type": "markdown",
   "metadata": {},
   "source": [
    "Now you can run TensorFlow operations and the results will return immediately:\n"
   ]
  },
  {
   "cell_type": "code",
   "execution_count": 3,
   "metadata": {},
   "outputs": [
    {
     "name": "stdout",
     "output_type": "stream",
     "text": [
      "Result, [[16]]\n"
     ]
    }
   ],
   "source": [
    "x = [[4]]\n",
    "m = tf.matmul(x, x)\n",
    "print(\"Result, {}\".format(m))"
   ]
  },
  {
   "cell_type": "markdown",
   "metadata": {},
   "source": [
    "Enabling eager execution changes how TensorFlow operations behave—now they immediately evaluate and return their values to Python.\n"
   ]
  },
  {
   "cell_type": "markdown",
   "metadata": {},
   "source": [
    "Since there isn't a computational graph to build and run later in a session, it's easy to inspect results using print() or a debugger.\n"
   ]
  },
  {
   "cell_type": "code",
   "execution_count": 4,
   "metadata": {},
   "outputs": [
    {
     "data": {
      "text/plain": [
       "tensorflow.python.framework.ops.EagerTensor"
      ]
     },
     "execution_count": 4,
     "metadata": {},
     "output_type": "execute_result"
    }
   ],
   "source": [
    "a = tf.constant(np.array([1., 2., 3.]))\n",
    "type(a)"
   ]
  },
  {
   "cell_type": "markdown",
   "metadata": {},
   "source": [
    "So the very same code created a different type of object. So now **a** is of type **tensorflow.python.framework.ops.EagerTensor**. This is great, because without changing code we obtain a tensor object which allows us to have a look inside, without execting a graph in a session:\n"
   ]
  },
  {
   "cell_type": "code",
   "execution_count": 5,
   "metadata": {},
   "outputs": [
    {
     "name": "stdout",
     "output_type": "stream",
     "text": [
      "[1. 2. 3.]\n"
     ]
    }
   ],
   "source": [
    "print(a.numpy())"
   ]
  },
  {
   "cell_type": "markdown",
   "metadata": {},
   "source": [
    "Isn't this amazing? So from now on we can threat Tensors like ordinary python objects, work with them as usual, insert debug statements at any point or even use a debugger. So let's continue this example:\n"
   ]
  },
  {
   "cell_type": "code",
   "execution_count": 6,
   "metadata": {},
   "outputs": [
    {
     "data": {
      "text/plain": [
       "tensorflow.python.framework.ops.EagerTensor"
      ]
     },
     "execution_count": 6,
     "metadata": {},
     "output_type": "execute_result"
    }
   ],
   "source": [
    "b = tf.constant(np.array([4.,5.,6.]))\n",
    "c = tf.tensordot(a, b,1)\n",
    "type(c)"
   ]
  },
  {
   "cell_type": "markdown",
   "metadata": {},
   "source": [
    "Again, **c** is an **tensorflow.python.framework.ops.EagerTensor** object which can be directly read:\n"
   ]
  },
  {
   "cell_type": "code",
   "execution_count": 7,
   "metadata": {},
   "outputs": [
    {
     "name": "stdout",
     "output_type": "stream",
     "text": [
      "32.0\n"
     ]
    }
   ],
   "source": [
    "print(c.numpy())"
   ]
  },
  {
   "cell_type": "markdown",
   "metadata": {},
   "source": [
    "Without creating a session or a graph we obtained the result of the defined computation.\n"
   ]
  },
  {
   "cell_type": "markdown",
   "metadata": {},
   "source": [
    "# Dynamic Control Flow\n",
    "\n",
    "A major benefit of eager execution is that all the functionality of the host language is available while your model is executing. So, for example, it is easy to write [fizzbuzz](https://en.wikipedia.org/wiki/Fizz_buzz?cm_mmc=Email_Newsletter-_-Developer_Ed%2BTech-_-WW_WW-_-SkillsNetwork-Courses-IBMDeveloperSkillsNetwork-DL0120EN-SkillsNetwork-20629446&cm_mmca1=000026UJ&cm_mmca2=10006555&cm_mmca3=M12345678&cvosrc=email.Newsletter.M12345678&cvo_campaign=000026UJ&cm_mmc=Email_Newsletter-_-Developer_Ed%2BTech-_-WW_WW-_-SkillsNetwork-Courses-IBMDeveloperSkillsNetwork-DL0120EN-SkillsNetwork-20629446&cm_mmca1=000026UJ&cm_mmca2=10006555&cm_mmca3=M12345678&cvosrc=email.Newsletter.M12345678&cvo_campaign=000026UJ):\n"
   ]
  },
  {
   "cell_type": "code",
   "execution_count": 8,
   "metadata": {},
   "outputs": [],
   "source": [
    "def fizzbuzz(max_num):\n",
    "  counter = tf.constant(0)\n",
    "  max_num = tf.convert_to_tensor(max_num)\n",
    "  for num in range(1, max_num.numpy()+1):\n",
    "    num = tf.constant(num)\n",
    "    if int(num % 3) == 0 and int(num % 5) == 0:\n",
    "      print('FizzBuzz')\n",
    "    elif int(num % 3) == 0:\n",
    "      print('Fizz')\n",
    "    elif int(num % 5) == 0:\n",
    "      print('Buzz')\n",
    "    else:\n",
    "      print(num.numpy())\n",
    "    counter += 1"
   ]
  },
  {
   "cell_type": "code",
   "execution_count": 9,
   "metadata": {},
   "outputs": [
    {
     "name": "stdout",
     "output_type": "stream",
     "text": [
      "1\n",
      "2\n",
      "Fizz\n",
      "4\n",
      "Buzz\n",
      "Fizz\n",
      "7\n",
      "8\n",
      "Fizz\n",
      "Buzz\n",
      "11\n",
      "Fizz\n",
      "13\n",
      "14\n",
      "FizzBuzz\n"
     ]
    }
   ],
   "source": [
    "fizzbuzz(15)"
   ]
  },
  {
   "cell_type": "markdown",
   "metadata": {},
   "source": [
    "It prints these values at runtime. It behaves just like any other Python code. It is direct and intuitive. We can use pure Python if, while, and for in the control flow. So that's it for now, stay tuned and have fun.\n"
   ]
  },
  {
   "cell_type": "markdown",
   "metadata": {},
   "source": [
    "<h1>Thank you for completing this notebook</h1>\n"
   ]
  },
  {
   "cell_type": "markdown",
   "metadata": {},
   "source": [
    "## Author\n",
    "\n",
    "<a href=\"https://www.linkedin.com/in/shubham-kumar-yadav-14378768\" target=\"_blank\">Shubham Yadav</a>\n",
    "\n",
    "## Change Log\n",
    "\n",
    "| Date (YYYY-MM-DD) | Version | Changed By | Change Description                                  |\n",
    "| ----------------- | ------- | ---------- | --------------------------------------------------- |\n",
    "| 2020-09-04        | 1.0     | Lavanya    | Added lab to demonstrate Tensorflow eager execution |\n",
    "\n",
    "<hr>\n",
    "\n",
    "## <h3 align=\"center\"> © IBM Corporation 2020. All rights reserved. <h3/>\n"
   ]
  }
 ],
 "metadata": {
  "kernelspec": {
   "display_name": "Python",
   "language": "python",
   "name": "conda-env-python-py"
  },
  "language_info": {
   "codemirror_mode": {
    "name": "ipython",
    "version": 3
   },
   "file_extension": ".py",
   "mimetype": "text/x-python",
   "name": "python",
   "nbconvert_exporter": "python",
   "pygments_lexer": "ipython3",
   "version": "3.6.12"
  }
 },
 "nbformat": 4,
 "nbformat_minor": 4
}
